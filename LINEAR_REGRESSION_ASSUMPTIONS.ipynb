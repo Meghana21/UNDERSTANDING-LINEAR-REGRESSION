{
 "cells": [
  {
   "cell_type": "code",
   "execution_count": 2,
   "metadata": {},
   "outputs": [],
   "source": [
    "import numpy as np\n",
    "import pandas as pd\n",
    "import matplotlib.pyplot as plt\n",
    "import seaborn as sns\n",
    "import scipy.stats as stats\n",
    "from sklearn.linear_model import LinearRegression\n",
    "from sklearn.metrics import r2_score,mean_squared_error\n",
    "import statsmodels.api as sm"
   ]
  },
  {
   "cell_type": "code",
   "execution_count": null,
   "metadata": {},
   "outputs": [],
   "source": [
    "'''\n",
    "\n",
    "There are 5 assumptions to check:-\n",
    "\n",
    "1.Linearity\n",
    "2.Normality\n",
    "3.Homoscadasticity\n",
    "4.Multicollinearity\n",
    "5.Autocorrelation\n",
    "\n",
    "The assumptions can be checked -\n",
    "\n",
    "a.individually on each and every column of the dataset\n",
    "b.can be checked on the residuals(errors)-the trend followed by the residuals is equivalent to that of the data.\n",
    "\n",
    "To avoid complications in case of large datasets, we often check the assumptions on residuals.\n",
    "There are 2ways to check for these assumptions-\n",
    "(i)Qualitatively-Graphically\n",
    "(ii)Quantitatively-statistical tests\n",
    "\n",
    "why check for assumptions?\n",
    "It is important to check whether the data follows a linear trend or not before fitting a linear model to it,otherwise\n",
    "the predictions/outputs given by the model will not be valid and the model itself becomes unreliable(as a linear model\n",
    "is by default designed to predict data which follows a linear trend).\n",
    "\n",
    "a.Linearity-for the model predictions to be valid\n",
    "*b.Normality-so that there are less deviations\n",
    "c.homoscadasticity-again the error variance has to be constant for the data to exhibit a linear trend\n",
    "d.multicollinearity-there should be no multicollinearity as it adds to the explainability factor of a linear model.\n",
    "*e.autocorrelation-no auto correlation.\n",
    "\n",
    "If at all we find that these assumptions are not met, we can try doing two things:\n",
    "a.Apply transformations\n",
    "b.Treat the outliers and then check for these assumptions again.\n",
    "\n",
    "**************************IF THE ASSUMPTIONS ARE NOT MET OR IF THE DATA DOESNOT FOLLOW A LINEAR TREND EVEN \n",
    "AFTER ALL THE TRANSFORMATIONS ETC,THEN WE SIMPLY GO FOR ANOTHER MODEL AS THE DATA IS NOT \n",
    "SUITABLE TO BE FITTED WITH A LINEAR MODEL.****************************************\n",
    "\n",
    "'''"
   ]
  },
  {
   "cell_type": "code",
   "execution_count": 3,
   "metadata": {},
   "outputs": [],
   "source": [
    "data_ref=pd.read_excel('Refrigerators.xlsx')"
   ]
  },
  {
   "cell_type": "code",
   "execution_count": 4,
   "metadata": {},
   "outputs": [
    {
     "data": {
      "text/html": [
       "<div>\n",
       "<style scoped>\n",
       "    .dataframe tbody tr th:only-of-type {\n",
       "        vertical-align: middle;\n",
       "    }\n",
       "\n",
       "    .dataframe tbody tr th {\n",
       "        vertical-align: top;\n",
       "    }\n",
       "\n",
       "    .dataframe thead th {\n",
       "        text-align: right;\n",
       "    }\n",
       "</style>\n",
       "<table border=\"1\" class=\"dataframe\">\n",
       "  <thead>\n",
       "    <tr style=\"text-align: right;\">\n",
       "      <th></th>\n",
       "      <th>Price</th>\n",
       "      <th>Opcost</th>\n",
       "      <th>CoolSize</th>\n",
       "      <th>FreezeSize</th>\n",
       "      <th>Shelves</th>\n",
       "      <th>Features</th>\n",
       "    </tr>\n",
       "  </thead>\n",
       "  <tbody>\n",
       "    <tr>\n",
       "      <td>0</td>\n",
       "      <td>595</td>\n",
       "      <td>75</td>\n",
       "      <td>7.1</td>\n",
       "      <td>5.7</td>\n",
       "      <td>3</td>\n",
       "      <td>2</td>\n",
       "    </tr>\n",
       "    <tr>\n",
       "      <td>1</td>\n",
       "      <td>685</td>\n",
       "      <td>75</td>\n",
       "      <td>7.2</td>\n",
       "      <td>5.7</td>\n",
       "      <td>3</td>\n",
       "      <td>1</td>\n",
       "    </tr>\n",
       "    <tr>\n",
       "      <td>2</td>\n",
       "      <td>535</td>\n",
       "      <td>67</td>\n",
       "      <td>8.8</td>\n",
       "      <td>4.5</td>\n",
       "      <td>1</td>\n",
       "      <td>6</td>\n",
       "    </tr>\n",
       "    <tr>\n",
       "      <td>3</td>\n",
       "      <td>600</td>\n",
       "      <td>67</td>\n",
       "      <td>8.7</td>\n",
       "      <td>4.5</td>\n",
       "      <td>3</td>\n",
       "      <td>5</td>\n",
       "    </tr>\n",
       "    <tr>\n",
       "      <td>4</td>\n",
       "      <td>605</td>\n",
       "      <td>67</td>\n",
       "      <td>8.8</td>\n",
       "      <td>4.5</td>\n",
       "      <td>3</td>\n",
       "      <td>3</td>\n",
       "    </tr>\n",
       "  </tbody>\n",
       "</table>\n",
       "</div>"
      ],
      "text/plain": [
       "   Price  Opcost  CoolSize  FreezeSize  Shelves  Features\n",
       "0    595      75       7.1         5.7        3         2\n",
       "1    685      75       7.2         5.7        3         1\n",
       "2    535      67       8.8         4.5        1         6\n",
       "3    600      67       8.7         4.5        3         5\n",
       "4    605      67       8.8         4.5        3         3"
      ]
     },
     "execution_count": 4,
     "metadata": {},
     "output_type": "execute_result"
    }
   ],
   "source": [
    "data_ref.head()"
   ]
  },
  {
   "cell_type": "code",
   "execution_count": 5,
   "metadata": {},
   "outputs": [],
   "source": [
    "#build a base model-ols\n",
    "inp=data_ref.iloc[:,1:]\n",
    "out=data_ref['Price']"
   ]
  },
  {
   "cell_type": "code",
   "execution_count": 6,
   "metadata": {},
   "outputs": [
    {
     "name": "stderr",
     "output_type": "stream",
     "text": [
      "/Applications/anaconda3/lib/python3.7/site-packages/numpy/core/fromnumeric.py:2495: FutureWarning: Method .ptp is deprecated and will be removed in a future version. Use numpy.ptp instead.\n",
      "  return ptp(axis=axis, out=out, **kwargs)\n"
     ]
    },
    {
     "data": {
      "text/html": [
       "<table class=\"simpletable\">\n",
       "<caption>OLS Regression Results</caption>\n",
       "<tr>\n",
       "  <th>Dep. Variable:</th>          <td>Price</td>      <th>  R-squared:         </th> <td>   0.838</td>\n",
       "</tr>\n",
       "<tr>\n",
       "  <th>Model:</th>                   <td>OLS</td>       <th>  Adj. R-squared:    </th> <td>   0.812</td>\n",
       "</tr>\n",
       "<tr>\n",
       "  <th>Method:</th>             <td>Least Squares</td>  <th>  F-statistic:       </th> <td>   32.05</td>\n",
       "</tr>\n",
       "<tr>\n",
       "  <th>Date:</th>             <td>Thu, 21 May 2020</td> <th>  Prob (F-statistic):</th> <td>2.27e-11</td>\n",
       "</tr>\n",
       "<tr>\n",
       "  <th>Time:</th>                 <td>23:02:31</td>     <th>  Log-Likelihood:    </th> <td> -201.12</td>\n",
       "</tr>\n",
       "<tr>\n",
       "  <th>No. Observations:</th>      <td>    37</td>      <th>  AIC:               </th> <td>   414.2</td>\n",
       "</tr>\n",
       "<tr>\n",
       "  <th>Df Residuals:</th>          <td>    31</td>      <th>  BIC:               </th> <td>   423.9</td>\n",
       "</tr>\n",
       "<tr>\n",
       "  <th>Df Model:</th>              <td>     5</td>      <th>                     </th>     <td> </td>   \n",
       "</tr>\n",
       "<tr>\n",
       "  <th>Covariance Type:</th>      <td>nonrobust</td>    <th>                     </th>     <td> </td>   \n",
       "</tr>\n",
       "</table>\n",
       "<table class=\"simpletable\">\n",
       "<tr>\n",
       "       <td></td>         <th>coef</th>     <th>std err</th>      <th>t</th>      <th>P>|t|</th>  <th>[0.025</th>    <th>0.975]</th>  \n",
       "</tr>\n",
       "<tr>\n",
       "  <th>const</th>      <td> -797.8082</td> <td>  271.409</td> <td>   -2.940</td> <td> 0.006</td> <td>-1351.351</td> <td> -244.265</td>\n",
       "</tr>\n",
       "<tr>\n",
       "  <th>Opcost</th>     <td>   -6.9578</td> <td>    2.275</td> <td>   -3.058</td> <td> 0.005</td> <td>  -11.598</td> <td>   -2.317</td>\n",
       "</tr>\n",
       "<tr>\n",
       "  <th>CoolSize</th>   <td>   76.4971</td> <td>   19.442</td> <td>    3.935</td> <td> 0.000</td> <td>   36.846</td> <td>  116.148</td>\n",
       "</tr>\n",
       "<tr>\n",
       "  <th>FreezeSize</th> <td>  213.8785</td> <td>   35.761</td> <td>    5.981</td> <td> 0.000</td> <td>  140.943</td> <td>  286.814</td>\n",
       "</tr>\n",
       "<tr>\n",
       "  <th>Shelves</th>    <td>   37.9373</td> <td>    9.886</td> <td>    3.837</td> <td> 0.001</td> <td>   17.774</td> <td>   58.100</td>\n",
       "</tr>\n",
       "<tr>\n",
       "  <th>Features</th>   <td>   23.7636</td> <td>    4.512</td> <td>    5.267</td> <td> 0.000</td> <td>   14.562</td> <td>   32.965</td>\n",
       "</tr>\n",
       "</table>\n",
       "<table class=\"simpletable\">\n",
       "<tr>\n",
       "  <th>Omnibus:</th>       <td> 0.974</td> <th>  Durbin-Watson:     </th> <td>   2.321</td>\n",
       "</tr>\n",
       "<tr>\n",
       "  <th>Prob(Omnibus):</th> <td> 0.614</td> <th>  Jarque-Bera (JB):  </th> <td>   1.005</td>\n",
       "</tr>\n",
       "<tr>\n",
       "  <th>Skew:</th>          <td> 0.289</td> <th>  Prob(JB):          </th> <td>   0.605</td>\n",
       "</tr>\n",
       "<tr>\n",
       "  <th>Kurtosis:</th>      <td> 2.435</td> <th>  Cond. No.          </th> <td>1.97e+03</td>\n",
       "</tr>\n",
       "</table><br/><br/>Warnings:<br/>[1] Standard Errors assume that the covariance matrix of the errors is correctly specified.<br/>[2] The condition number is large, 1.97e+03. This might indicate that there are<br/>strong multicollinearity or other numerical problems."
      ],
      "text/plain": [
       "<class 'statsmodels.iolib.summary.Summary'>\n",
       "\"\"\"\n",
       "                            OLS Regression Results                            \n",
       "==============================================================================\n",
       "Dep. Variable:                  Price   R-squared:                       0.838\n",
       "Model:                            OLS   Adj. R-squared:                  0.812\n",
       "Method:                 Least Squares   F-statistic:                     32.05\n",
       "Date:                Thu, 21 May 2020   Prob (F-statistic):           2.27e-11\n",
       "Time:                        23:02:31   Log-Likelihood:                -201.12\n",
       "No. Observations:                  37   AIC:                             414.2\n",
       "Df Residuals:                      31   BIC:                             423.9\n",
       "Df Model:                           5                                         \n",
       "Covariance Type:            nonrobust                                         \n",
       "==============================================================================\n",
       "                 coef    std err          t      P>|t|      [0.025      0.975]\n",
       "------------------------------------------------------------------------------\n",
       "const       -797.8082    271.409     -2.940      0.006   -1351.351    -244.265\n",
       "Opcost        -6.9578      2.275     -3.058      0.005     -11.598      -2.317\n",
       "CoolSize      76.4971     19.442      3.935      0.000      36.846     116.148\n",
       "FreezeSize   213.8785     35.761      5.981      0.000     140.943     286.814\n",
       "Shelves       37.9373      9.886      3.837      0.001      17.774      58.100\n",
       "Features      23.7636      4.512      5.267      0.000      14.562      32.965\n",
       "==============================================================================\n",
       "Omnibus:                        0.974   Durbin-Watson:                   2.321\n",
       "Prob(Omnibus):                  0.614   Jarque-Bera (JB):                1.005\n",
       "Skew:                           0.289   Prob(JB):                        0.605\n",
       "Kurtosis:                       2.435   Cond. No.                     1.97e+03\n",
       "==============================================================================\n",
       "\n",
       "Warnings:\n",
       "[1] Standard Errors assume that the covariance matrix of the errors is correctly specified.\n",
       "[2] The condition number is large, 1.97e+03. This might indicate that there are\n",
       "strong multicollinearity or other numerical problems.\n",
       "\"\"\""
      ]
     },
     "execution_count": 6,
     "metadata": {},
     "output_type": "execute_result"
    }
   ],
   "source": [
    "inp_c=sm.add_constant(inp)#add constant to the predictors\n",
    "ols1=sm.OLS(out,inp_c)#prepare data for the ols model\n",
    "mod1=ols1.fit()#fit the data to that model\n",
    "mod1.summary()"
   ]
  },
  {
   "cell_type": "code",
   "execution_count": 14,
   "metadata": {},
   "outputs": [
    {
     "data": {
      "image/png": "[encoded data removed]",
      "text/plain": [
       "<Figure size 1080x432 with 2 Axes>"
      ]
     },
     "metadata": {
      "needs_background": "light"
     },
     "output_type": "display_data"
    }
   ],
   "source": [
    "#Linearity-Graphically\n",
    "predicted_values=mod1.predict()\n",
    "observed_values=data_ref['Price']\n",
    "residuals=mod1.resid\n",
    "fig,axes=plt.subplots(1,2,figsize=(15,6))\n",
    "sns.regplot(x=predicted_values,y=observed_values,lowess=True, line_kws={'color': 'red'},ax=axes[0])\n",
    "sns.regplot(x=predicted_values,y=residuals,lowess=True, line_kws={'color': 'red'},ax=axes[1])\n",
    "axes[0].set(xlabel='Predicted', ylabel='Observed')\n",
    "axes[1].set(xlabel='Predicted', ylabel='Residuals')\n",
    "axes[1].set_title('Residual plot')\n",
    "plt.show()"
   ]
  },
  {
   "cell_type": "code",
   "execution_count": null,
   "metadata": {},
   "outputs": [],
   "source": [
    "'''graphically we can see that the relationship is almost linear.'''"
   ]
  },
  {
   "cell_type": "code",
   "execution_count": 19,
   "metadata": {},
   "outputs": [
    {
     "data": {
      "text/plain": [
       "(1.229003687336259, 0.36464475875614183)"
      ]
     },
     "execution_count": 19,
     "metadata": {},
     "output_type": "execute_result"
    }
   ],
   "source": [
    "#linearity-statistically(linear rainbow test)\n",
    "sm.stats.diagnostic.linear_rainbow(res=mod1, frac=0.5)"
   ]
  },
  {
   "cell_type": "code",
   "execution_count": null,
   "metadata": {},
   "outputs": [],
   "source": [
    "'''a.null hypothesis for the linear rainbow test is - the residuals are linear\n",
    "b.p-value obtained is greater than 0.05,so we accept null hypothesis and say that the residuals are linear(here we \n",
    "checked the linearity for a fraction of the data)'''"
   ]
  },
  {
   "cell_type": "code",
   "execution_count": 20,
   "metadata": {},
   "outputs": [
    {
     "data": {
      "text/plain": [
       "<matplotlib.axes._subplots.AxesSubplot at 0x1c245dee50>"
      ]
     },
     "execution_count": 20,
     "metadata": {},
     "output_type": "execute_result"
    },
    {
     "data": {
      "image/png": "[encoded data removed]",
      "text/plain": [
       "<Figure size 432x288 with 1 Axes>"
      ]
     },
     "metadata": {
      "needs_background": "light"
     },
     "output_type": "display_data"
    }
   ],
   "source": [
    "#Normality-Graphically\n",
    "sns.distplot(residuals)"
   ]
  },
  {
   "cell_type": "code",
   "execution_count": null,
   "metadata": {},
   "outputs": [],
   "source": [
    "'''graphically we can say that the residuals are almost normally distributed.'''"
   ]
  },
  {
   "cell_type": "code",
   "execution_count": 21,
   "metadata": {},
   "outputs": [
    {
     "data": {
      "text/plain": [
       "(0.9613720774650574, 0.22325065732002258)"
      ]
     },
     "execution_count": 21,
     "metadata": {},
     "output_type": "execute_result"
    }
   ],
   "source": [
    "#Normality-Statistically(shapiro test)\n",
    "stats.shapiro(mod1.resid)"
   ]
  },
  {
   "cell_type": "code",
   "execution_count": 22,
   "metadata": {},
   "outputs": [
    {
     "data": {
      "image/png": "[encoded data removed]",
      "text/plain": [
       "<Figure size 432x288 with 1 Axes>"
      ]
     },
     "metadata": {
      "needs_background": "light"
     },
     "output_type": "display_data"
    }
   ],
   "source": [
    "stats.probplot(mod1.resid,fit='norm',plot=plt)\n",
    "plt.show()"
   ]
  },
  {
   "cell_type": "code",
   "execution_count": null,
   "metadata": {},
   "outputs": [],
   "source": [
    "'''the null hypothesis in case of shapiro test-the residuals are normally distributed\n",
    "the p-value obtained in the above case is greater than 0.05,so we accept the null hypothesis and say that\n",
    "the residuals are normally distributed statistically as well.'''"
   ]
  },
  {
   "cell_type": "code",
   "execution_count": 24,
   "metadata": {},
   "outputs": [
    {
     "data": {
      "image/png": "[encoded data removed]",
      "text/plain": [
       "<Figure size 1080x504 with 2 Axes>"
      ]
     },
     "metadata": {
      "needs_background": "light"
     },
     "output_type": "display_data"
    }
   ],
   "source": [
    "#Homoscadasticity-Graphically\n",
    "fig1,axes1=plt.subplots(1,2,figsize=(15,7))\n",
    "sns.regplot(x=predicted_values,y=residuals,lowess=True, line_kws={'color': 'red'},ax=axes1[0])\n",
    "sns.residplot(out,mod1.resid,ax=axes1[1])\n",
    "plt.show()"
   ]
  },
  {
   "cell_type": "code",
   "execution_count": null,
   "metadata": {},
   "outputs": [],
   "source": [
    "'''from the above plot we cannot actually say that the residuals are hetero even though there is a variance in the\n",
    "errors,as there is no particular pattern to it,it is not completely homoscadastic either.'''"
   ]
  },
  {
   "cell_type": "code",
   "execution_count": 25,
   "metadata": {},
   "outputs": [
    {
     "data": {
      "text/plain": [
       "(1.9918809170245648, 0.1160996758106111, 'increasing')"
      ]
     },
     "execution_count": 25,
     "metadata": {},
     "output_type": "execute_result"
    }
   ],
   "source": [
    "#Homoscadasticity-statistically(goldfeld quandt test)\n",
    "from statsmodels.stats.api import het_goldfeldquandt\n",
    "het_goldfeldquandt(mod1.resid,mod1.model.exog)\n",
    "#exog gives all the input features/independent variables/predictors/regressors to the goldfeldquant function"
   ]
  },
  {
   "cell_type": "code",
   "execution_count": null,
   "metadata": {},
   "outputs": [],
   "source": [
    "'''the null hypothesis-residuals are homoscadastic,p-value obtained is greater than 0.05,accept null hypothesis,\\\n",
    "so statistically we ca say that the residuals are homoscadastic.'''"
   ]
  },
  {
   "cell_type": "code",
   "execution_count": 26,
   "metadata": {},
   "outputs": [
    {
     "data": {
      "text/plain": [
       "<matplotlib.axes._subplots.AxesSubplot at 0x1c24ab71d0>"
      ]
     },
     "execution_count": 26,
     "metadata": {},
     "output_type": "execute_result"
    },
    {
     "data": {
      "image/png": "[encoded data removed]",
      "text/plain": [
       "<Figure size 432x288 with 2 Axes>"
      ]
     },
     "metadata": {
      "needs_background": "light"
     },
     "output_type": "display_data"
    }
   ],
   "source": [
    "#Multicollinearity-Graphically\n",
    "sns.heatmap(inp.corr(),annot=True)"
   ]
  },
  {
   "cell_type": "code",
   "execution_count": null,
   "metadata": {},
   "outputs": [],
   "source": [
    "'''there is multicollinearity between three variables-opcost,coolsize,freesize\n",
    "the operational cost increases with increase in the freezer size and the coolsize decreases.'''"
   ]
  },
  {
   "cell_type": "code",
   "execution_count": null,
   "metadata": {},
   "outputs": [],
   "source": [
    "#Multicollinearity-Statistically(vif-variance inflation factor)\n",
    "#multi collinearity can be checked for each and every individual feature\n",
    "# f1 - (f2,f3,f4,f5) -------Rsquare=1 ---------- vif=1/(1-Rsquare) --------- vif=inf\n",
    "                           #Rsquare=0 ---------- vif=1/(1-Rsquare) --------- vif=1\n",
    "    \n",
    "    #f1 - vif=17,  p-val=0.005\n",
    "    #f2 - vif=14,  p-val=0.02\n",
    "    #here f1 is more significant than f2 considering p-value,therefore we can't remove features solely looking at vif."
   ]
  },
  {
   "cell_type": "code",
   "execution_count": 31,
   "metadata": {},
   "outputs": [
    {
     "data": {
      "text/html": [
       "<div>\n",
       "<style scoped>\n",
       "    .dataframe tbody tr th:only-of-type {\n",
       "        vertical-align: middle;\n",
       "    }\n",
       "\n",
       "    .dataframe tbody tr th {\n",
       "        vertical-align: top;\n",
       "    }\n",
       "\n",
       "    .dataframe thead th {\n",
       "        text-align: right;\n",
       "    }\n",
       "</style>\n",
       "<table border=\"1\" class=\"dataframe\">\n",
       "  <thead>\n",
       "    <tr style=\"text-align: right;\">\n",
       "      <th></th>\n",
       "      <th>VIF</th>\n",
       "      <th>Features</th>\n",
       "    </tr>\n",
       "  </thead>\n",
       "  <tbody>\n",
       "    <tr>\n",
       "      <td>0</td>\n",
       "      <td>259.407845</td>\n",
       "      <td>Opcost</td>\n",
       "    </tr>\n",
       "    <tr>\n",
       "      <td>1</td>\n",
       "      <td>24.261754</td>\n",
       "      <td>CoolSize</td>\n",
       "    </tr>\n",
       "    <tr>\n",
       "      <td>2</td>\n",
       "      <td>179.916043</td>\n",
       "      <td>FreezeSize</td>\n",
       "    </tr>\n",
       "    <tr>\n",
       "      <td>3</td>\n",
       "      <td>6.478725</td>\n",
       "      <td>Shelves</td>\n",
       "    </tr>\n",
       "    <tr>\n",
       "      <td>4</td>\n",
       "      <td>3.680741</td>\n",
       "      <td>Features</td>\n",
       "    </tr>\n",
       "  </tbody>\n",
       "</table>\n",
       "</div>"
      ],
      "text/plain": [
       "          VIF    Features\n",
       "0  259.407845      Opcost\n",
       "1   24.261754    CoolSize\n",
       "2  179.916043  FreezeSize\n",
       "3    6.478725     Shelves\n",
       "4    3.680741    Features"
      ]
     },
     "execution_count": 31,
     "metadata": {},
     "output_type": "execute_result"
    }
   ],
   "source": [
    "from statsmodels.stats.outliers_influence import variance_inflation_factor\n",
    "vif=pd.DataFrame()\n",
    "vif['VIF']=[variance_inflation_factor(inp.values,i) for i in range(inp.shape[1])]\n",
    "vif['Features']=inp.columns\n",
    "vif"
   ]
  },
  {
   "cell_type": "code",
   "execution_count": 33,
   "metadata": {},
   "outputs": [],
   "source": [
    "#remove the feature with highest vif i.e.,opcost and check the other vifs and build a model and check the effect on\n",
    "#p-values,rsquare and other features\n",
    "inp1=inp.drop('Opcost',1)"
   ]
  },
  {
   "cell_type": "code",
   "execution_count": 35,
   "metadata": {},
   "outputs": [
    {
     "data": {
      "text/html": [
       "<div>\n",
       "<style scoped>\n",
       "    .dataframe tbody tr th:only-of-type {\n",
       "        vertical-align: middle;\n",
       "    }\n",
       "\n",
       "    .dataframe tbody tr th {\n",
       "        vertical-align: top;\n",
       "    }\n",
       "\n",
       "    .dataframe thead th {\n",
       "        text-align: right;\n",
       "    }\n",
       "</style>\n",
       "<table border=\"1\" class=\"dataframe\">\n",
       "  <thead>\n",
       "    <tr style=\"text-align: right;\">\n",
       "      <th></th>\n",
       "      <th>VIF</th>\n",
       "      <th>Features</th>\n",
       "    </tr>\n",
       "  </thead>\n",
       "  <tbody>\n",
       "    <tr>\n",
       "      <td>0</td>\n",
       "      <td>11.050641</td>\n",
       "      <td>CoolSize</td>\n",
       "    </tr>\n",
       "    <tr>\n",
       "      <td>1</td>\n",
       "      <td>19.534441</td>\n",
       "      <td>FreezeSize</td>\n",
       "    </tr>\n",
       "    <tr>\n",
       "      <td>2</td>\n",
       "      <td>6.474278</td>\n",
       "      <td>Shelves</td>\n",
       "    </tr>\n",
       "    <tr>\n",
       "      <td>3</td>\n",
       "      <td>3.649582</td>\n",
       "      <td>Features</td>\n",
       "    </tr>\n",
       "  </tbody>\n",
       "</table>\n",
       "</div>"
      ],
      "text/plain": [
       "         VIF    Features\n",
       "0  11.050641    CoolSize\n",
       "1  19.534441  FreezeSize\n",
       "2   6.474278     Shelves\n",
       "3   3.649582    Features"
      ]
     },
     "execution_count": 35,
     "metadata": {},
     "output_type": "execute_result"
    }
   ],
   "source": [
    "vif=pd.DataFrame()\n",
    "vif['VIF']=[variance_inflation_factor(inp1.values,i) for i in range(inp1.shape[1])]\n",
    "vif['Features']=inp1.columns\n",
    "vif.sort_values('VIF',ascending=False)\n",
    "vif"
   ]
  },
  {
   "cell_type": "code",
   "execution_count": 36,
   "metadata": {},
   "outputs": [
    {
     "data": {
      "text/html": [
       "<table class=\"simpletable\">\n",
       "<caption>OLS Regression Results</caption>\n",
       "<tr>\n",
       "  <th>Dep. Variable:</th>          <td>Price</td>      <th>  R-squared:         </th> <td>   0.789</td>\n",
       "</tr>\n",
       "<tr>\n",
       "  <th>Model:</th>                   <td>OLS</td>       <th>  Adj. R-squared:    </th> <td>   0.763</td>\n",
       "</tr>\n",
       "<tr>\n",
       "  <th>Method:</th>             <td>Least Squares</td>  <th>  F-statistic:       </th> <td>   29.92</td>\n",
       "</tr>\n",
       "<tr>\n",
       "  <th>Date:</th>             <td>Fri, 22 May 2020</td> <th>  Prob (F-statistic):</th> <td>2.10e-10</td>\n",
       "</tr>\n",
       "<tr>\n",
       "  <th>Time:</th>                 <td>00:12:49</td>     <th>  Log-Likelihood:    </th> <td> -205.99</td>\n",
       "</tr>\n",
       "<tr>\n",
       "  <th>No. Observations:</th>      <td>    37</td>      <th>  AIC:               </th> <td>   422.0</td>\n",
       "</tr>\n",
       "<tr>\n",
       "  <th>Df Residuals:</th>          <td>    32</td>      <th>  BIC:               </th> <td>   430.0</td>\n",
       "</tr>\n",
       "<tr>\n",
       "  <th>Df Model:</th>              <td>     4</td>      <th>                     </th>     <td> </td>   \n",
       "</tr>\n",
       "<tr>\n",
       "  <th>Covariance Type:</th>      <td>nonrobust</td>    <th>                     </th>     <td> </td>   \n",
       "</tr>\n",
       "</table>\n",
       "<table class=\"simpletable\">\n",
       "<tr>\n",
       "       <td></td>         <th>coef</th>     <th>std err</th>      <th>t</th>      <th>P>|t|</th>  <th>[0.025</th>    <th>0.975]</th>  \n",
       "</tr>\n",
       "<tr>\n",
       "  <th>const</th>      <td> -698.8915</td> <td>  302.602</td> <td>   -2.310</td> <td> 0.028</td> <td>-1315.272</td> <td>  -82.511</td>\n",
       "</tr>\n",
       "<tr>\n",
       "  <th>CoolSize</th>   <td>   56.4978</td> <td>   20.559</td> <td>    2.748</td> <td> 0.010</td> <td>   14.620</td> <td>   98.375</td>\n",
       "</tr>\n",
       "<tr>\n",
       "  <th>FreezeSize</th> <td>  131.8951</td> <td>   26.576</td> <td>    4.963</td> <td> 0.000</td> <td>   77.761</td> <td>  186.029</td>\n",
       "</tr>\n",
       "<tr>\n",
       "  <th>Shelves</th>    <td>   35.9230</td> <td>   11.077</td> <td>    3.243</td> <td> 0.003</td> <td>   13.360</td> <td>   58.486</td>\n",
       "</tr>\n",
       "<tr>\n",
       "  <th>Features</th>   <td>   25.1590</td> <td>    5.040</td> <td>    4.992</td> <td> 0.000</td> <td>   14.892</td> <td>   35.426</td>\n",
       "</tr>\n",
       "</table>\n",
       "<table class=\"simpletable\">\n",
       "<tr>\n",
       "  <th>Omnibus:</th>       <td> 1.106</td> <th>  Durbin-Watson:     </th> <td>   2.556</td>\n",
       "</tr>\n",
       "<tr>\n",
       "  <th>Prob(Omnibus):</th> <td> 0.575</td> <th>  Jarque-Bera (JB):  </th> <td>   0.595</td>\n",
       "</tr>\n",
       "<tr>\n",
       "  <th>Skew:</th>          <td> 0.307</td> <th>  Prob(JB):          </th> <td>   0.743</td>\n",
       "</tr>\n",
       "<tr>\n",
       "  <th>Kurtosis:</th>      <td> 3.090</td> <th>  Cond. No.          </th> <td>    291.</td>\n",
       "</tr>\n",
       "</table><br/><br/>Warnings:<br/>[1] Standard Errors assume that the covariance matrix of the errors is correctly specified."
      ],
      "text/plain": [
       "<class 'statsmodels.iolib.summary.Summary'>\n",
       "\"\"\"\n",
       "                            OLS Regression Results                            \n",
       "==============================================================================\n",
       "Dep. Variable:                  Price   R-squared:                       0.789\n",
       "Model:                            OLS   Adj. R-squared:                  0.763\n",
       "Method:                 Least Squares   F-statistic:                     29.92\n",
       "Date:                Fri, 22 May 2020   Prob (F-statistic):           2.10e-10\n",
       "Time:                        00:12:49   Log-Likelihood:                -205.99\n",
       "No. Observations:                  37   AIC:                             422.0\n",
       "Df Residuals:                      32   BIC:                             430.0\n",
       "Df Model:                           4                                         \n",
       "Covariance Type:            nonrobust                                         \n",
       "==============================================================================\n",
       "                 coef    std err          t      P>|t|      [0.025      0.975]\n",
       "------------------------------------------------------------------------------\n",
       "const       -698.8915    302.602     -2.310      0.028   -1315.272     -82.511\n",
       "CoolSize      56.4978     20.559      2.748      0.010      14.620      98.375\n",
       "FreezeSize   131.8951     26.576      4.963      0.000      77.761     186.029\n",
       "Shelves       35.9230     11.077      3.243      0.003      13.360      58.486\n",
       "Features      25.1590      5.040      4.992      0.000      14.892      35.426\n",
       "==============================================================================\n",
       "Omnibus:                        1.106   Durbin-Watson:                   2.556\n",
       "Prob(Omnibus):                  0.575   Jarque-Bera (JB):                0.595\n",
       "Skew:                           0.307   Prob(JB):                        0.743\n",
       "Kurtosis:                       3.090   Cond. No.                         291.\n",
       "==============================================================================\n",
       "\n",
       "Warnings:\n",
       "[1] Standard Errors assume that the covariance matrix of the errors is correctly specified.\n",
       "\"\"\""
      ]
     },
     "execution_count": 36,
     "metadata": {},
     "output_type": "execute_result"
    }
   ],
   "source": [
    "inp_c=sm.add_constant(inp1)\n",
    "ols2=sm.OLS(out,inp_c)\n",
    "mod2=ols2.fit()\n",
    "mod2.summary()"
   ]
  },
  {
   "cell_type": "code",
   "execution_count": null,
   "metadata": {},
   "outputs": [],
   "source": [
    "'''\n",
    "\n",
    "removal of operational cost feature:-\n",
    "\n",
    "a.reduced the rsquare and adjusted rsquare values\n",
    "b.but the intercept p-value didnot decrease and become so significant that the model has to be called as intercept\n",
    "only model\n",
    "\n",
    "\n",
    "*******other features cannot be droped based on vifs as there will be no features left to predict,the predicted\n",
    "values cannot be considered valid,there is no point in building a linear regression model,it will merely be an \n",
    "intercept only model******************\n",
    "\n",
    "'''"
   ]
  }
 ],
 "metadata": {
  "kernelspec": {
   "display_name": "Python 3",
   "language": "python",
   "name": "python3"
  },
  "language_info": {
   "codemirror_mode": {
    "name": "ipython",
    "version": 3
   },
   "file_extension": ".py",
   "mimetype": "text/x-python",
   "name": "python",
   "nbconvert_exporter": "python",
   "pygments_lexer": "ipython3",
   "version": "3.7.4"
  }
 },
 "nbformat": 4,
 "nbformat_minor": 2
}
