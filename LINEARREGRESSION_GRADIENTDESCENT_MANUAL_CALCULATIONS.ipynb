{
 "cells": [
  {
   "cell_type": "code",
   "execution_count": 34,
   "metadata": {},
   "outputs": [],
   "source": [
    "import numpy as np\n",
    "import pandas as pd\n",
    "import matplotlib.pyplot as plt\n",
    "import seaborn as sns"
   ]
  },
  {
   "cell_type": "code",
   "execution_count": 35,
   "metadata": {},
   "outputs": [
    {
     "data": {
      "text/html": [
       "<div>\n",
       "<style scoped>\n",
       "    .dataframe tbody tr th:only-of-type {\n",
       "        vertical-align: middle;\n",
       "    }\n",
       "\n",
       "    .dataframe tbody tr th {\n",
       "        vertical-align: top;\n",
       "    }\n",
       "\n",
       "    .dataframe thead th {\n",
       "        text-align: right;\n",
       "    }\n",
       "</style>\n",
       "<table border=\"1\" class=\"dataframe\">\n",
       "  <thead>\n",
       "    <tr style=\"text-align: right;\">\n",
       "      <th></th>\n",
       "      <th>Weight</th>\n",
       "      <th>Height</th>\n",
       "    </tr>\n",
       "  </thead>\n",
       "  <tbody>\n",
       "    <tr>\n",
       "      <td>0</td>\n",
       "      <td>0.5</td>\n",
       "      <td>1.4</td>\n",
       "    </tr>\n",
       "    <tr>\n",
       "      <td>1</td>\n",
       "      <td>2.3</td>\n",
       "      <td>1.9</td>\n",
       "    </tr>\n",
       "    <tr>\n",
       "      <td>2</td>\n",
       "      <td>2.9</td>\n",
       "      <td>3.2</td>\n",
       "    </tr>\n",
       "  </tbody>\n",
       "</table>\n",
       "</div>"
      ],
      "text/plain": [
       "   Weight  Height\n",
       "0     0.5     1.4\n",
       "1     2.3     1.9\n",
       "2     2.9     3.2"
      ]
     },
     "execution_count": 35,
     "metadata": {},
     "output_type": "execute_result"
    }
   ],
   "source": [
    "data=pd.DataFrame({'Weight':[0.5,2.3,2.9],'Height':[1.4,1.9,3.2]})\n",
    "data"
   ]
  },
  {
   "cell_type": "markdown",
   "metadata": {},
   "source": [
    "1. weight is the independent variable\n",
    "2. height is the dependent vriable(target)\n",
    "3. we are going to predict height from weight"
   ]
  },
  {
   "cell_type": "markdown",
   "metadata": {},
   "source": [
    "#### pred_Height = b1*Weight + b0"
   ]
  },
  {
   "cell_type": "markdown",
   "metadata": {},
   "source": [
    "Building the regression model is nothing but finding/optimising these coefficients(b0,b1). Let's start with freezing one coefficient b1=0.64(to reduce mathematical complexities),and computing other one b0."
   ]
  },
  {
   "cell_type": "markdown",
   "metadata": {},
   "source": [
    "The idea of finding these coefficients is : Compute the values for b0 and b1 such that the error is minimum.\n",
    "\n",
    "what is error? sum((Actual_Height-Predicted_Height)^2)\n",
    "\n",
    "sum((Actual_Height-(b1*Weight + b0))^2) ---> 0"
   ]
  },
  {
   "cell_type": "code",
   "execution_count": 36,
   "metadata": {},
   "outputs": [],
   "source": [
    "# best line fit equation\n",
    "# initially we will consider some random values of b0 and b1\n",
    "\n",
    "b0 = 0\n",
    "b1 = 0.64\n",
    "Pred_Height = b0 + b1*data['Weight']"
   ]
  },
  {
   "cell_type": "code",
   "execution_count": 37,
   "metadata": {},
   "outputs": [
    {
     "data": {
      "text/plain": [
       "0    0.320\n",
       "1    1.472\n",
       "2    1.856\n",
       "Name: Weight, dtype: float64"
      ]
     },
     "execution_count": 37,
     "metadata": {},
     "output_type": "execute_result"
    }
   ],
   "source": [
    "Pred_Height"
   ]
  },
  {
   "cell_type": "code",
   "execution_count": 38,
   "metadata": {},
   "outputs": [
    {
     "data": {
      "text/plain": [
       "<matplotlib.legend.Legend at 0x1a19d66610>"
      ]
     },
     "execution_count": 38,
     "metadata": {},
     "output_type": "execute_result"
    },
    {
     "data": {
      "image/png": "[encoded data removed]",
      "text/plain": [
       "<Figure size 432x288 with 1 Axes>"
      ]
     },
     "metadata": {
      "needs_background": "light"
     },
     "output_type": "display_data"
    }
   ],
   "source": [
    "# plot the dataset (height,weight) red stars are the actual observations(datapoints)\n",
    "# the blue line is the one obtained when b0 is substituted as zero(predicted values)\n",
    "\n",
    "plt.plot(data['Weight'],data['Height'],'*',markersize=14,color='red')\n",
    "plt.axis([0,4,0,4])\n",
    "x=np.linspace(0,4,50)\n",
    "plt.plot(x,b1*x+b0,label='b0=0')\n",
    "plt.legend()"
   ]
  },
  {
   "cell_type": "code",
   "execution_count": null,
   "metadata": {},
   "outputs": [],
   "source": [
    "'''\n",
    "The line is deviatong a lot from the actual data points, therefore we can say that this is not an optimal line.\n",
    "Also we won't be getting an optimal line because we have chosen a random value for b0 i.e., 0 not on the\n",
    "basis of minimising the error strategy.\n",
    "'''"
   ]
  },
  {
   "cell_type": "code",
   "execution_count": null,
   "metadata": {},
   "outputs": [],
   "source": [
    "# To Compute Error"
   ]
  },
  {
   "cell_type": "code",
   "execution_count": 39,
   "metadata": {},
   "outputs": [
    {
     "name": "stdout",
     "output_type": "stream",
     "text": [
      "0    1.166400\n",
      "1    0.183184\n",
      "2    1.806336\n",
      "dtype: float64\n",
      "The sum of squared Error is: 3.1559200000000005\n"
     ]
    }
   ],
   "source": [
    "# SquaredError = (Pred_Height-Height)^2\n",
    "\n",
    "er = Pred_Height-data['Height'] \n",
    "se = np.power(er,2)\n",
    "print(se)\n",
    "sse = np.sum(se)\n",
    "print('The sum of squared Error is:',sse)"
   ]
  },
  {
   "cell_type": "code",
   "execution_count": 40,
   "metadata": {},
   "outputs": [],
   "source": [
    "# we will now explore the error value for different combination of b0 values\n",
    "b0 = [0,0.25,0.5,0.75,1,1.25,1.75,2]\n",
    "sum_squared_error = []"
   ]
  },
  {
   "cell_type": "code",
   "execution_count": 41,
   "metadata": {},
   "outputs": [
    {
     "data": {
      "image/png": "[encoded data removed]",
      "text/plain": [
       "<Figure size 432x288 with 1 Axes>"
      ]
     },
     "metadata": {
      "needs_background": "light"
     },
     "output_type": "display_data"
    }
   ],
   "source": [
    "# plotting the regression line wrt different b0 values\n",
    "\n",
    "for i in b0:\n",
    "    plt.plot(data['Weight'],data['Height'],'*',markersize=14,color='red')\n",
    "    plt.axis([0,4,0,4])\n",
    "    x=np.linspace(0,4,50)\n",
    "    plt.plot(x,b1*x+i,label=i)\n",
    "    plt.legend(ncol=3)"
   ]
  },
  {
   "cell_type": "code",
   "execution_count": 42,
   "metadata": {},
   "outputs": [],
   "source": [
    "# computing sse for each b0\n",
    "\n",
    "for i in b0:\n",
    "    Pred_Height = i + b1*data['Weight']\n",
    "    er = Pred_Height-data['Height']\n",
    "    se = np.power(er,2)\n",
    "    sum_squared_error.append(np.sum(se))\n",
    "    \n",
    "SSE = pd.DataFrame(sum_squared_error)\n",
    "b0 = pd.DataFrame(b0)"
   ]
  },
  {
   "cell_type": "code",
   "execution_count": 43,
   "metadata": {},
   "outputs": [],
   "source": [
    "sse_b0 = pd.concat([b0,SSE],axis=1)"
   ]
  },
  {
   "cell_type": "code",
   "execution_count": 44,
   "metadata": {},
   "outputs": [
    {
     "data": {
      "text/html": [
       "<div>\n",
       "<style scoped>\n",
       "    .dataframe tbody tr th:only-of-type {\n",
       "        vertical-align: middle;\n",
       "    }\n",
       "\n",
       "    .dataframe tbody tr th {\n",
       "        vertical-align: top;\n",
       "    }\n",
       "\n",
       "    .dataframe thead th {\n",
       "        text-align: right;\n",
       "    }\n",
       "</style>\n",
       "<table border=\"1\" class=\"dataframe\">\n",
       "  <thead>\n",
       "    <tr style=\"text-align: right;\">\n",
       "      <th></th>\n",
       "      <th>b0</th>\n",
       "      <th>sse</th>\n",
       "    </tr>\n",
       "  </thead>\n",
       "  <tbody>\n",
       "    <tr>\n",
       "      <td>0</td>\n",
       "      <td>0.00</td>\n",
       "      <td>3.15592</td>\n",
       "    </tr>\n",
       "    <tr>\n",
       "      <td>1</td>\n",
       "      <td>0.25</td>\n",
       "      <td>1.91742</td>\n",
       "    </tr>\n",
       "    <tr>\n",
       "      <td>2</td>\n",
       "      <td>0.50</td>\n",
       "      <td>1.05392</td>\n",
       "    </tr>\n",
       "    <tr>\n",
       "      <td>3</td>\n",
       "      <td>0.75</td>\n",
       "      <td>0.56542</td>\n",
       "    </tr>\n",
       "    <tr>\n",
       "      <td>4</td>\n",
       "      <td>1.00</td>\n",
       "      <td>0.45192</td>\n",
       "    </tr>\n",
       "    <tr>\n",
       "      <td>5</td>\n",
       "      <td>1.25</td>\n",
       "      <td>0.71342</td>\n",
       "    </tr>\n",
       "    <tr>\n",
       "      <td>6</td>\n",
       "      <td>1.75</td>\n",
       "      <td>2.36142</td>\n",
       "    </tr>\n",
       "    <tr>\n",
       "      <td>7</td>\n",
       "      <td>2.00</td>\n",
       "      <td>3.74792</td>\n",
       "    </tr>\n",
       "  </tbody>\n",
       "</table>\n",
       "</div>"
      ],
      "text/plain": [
       "     b0      sse\n",
       "0  0.00  3.15592\n",
       "1  0.25  1.91742\n",
       "2  0.50  1.05392\n",
       "3  0.75  0.56542\n",
       "4  1.00  0.45192\n",
       "5  1.25  0.71342\n",
       "6  1.75  2.36142\n",
       "7  2.00  3.74792"
      ]
     },
     "execution_count": 44,
     "metadata": {},
     "output_type": "execute_result"
    }
   ],
   "source": [
    "sse_b0.columns=['b0','sse']\n",
    "sse_b0"
   ]
  },
  {
   "cell_type": "code",
   "execution_count": 46,
   "metadata": {},
   "outputs": [
    {
     "data": {
      "image/png": "[encoded data removed]",
      "text/plain": [
       "<Figure size 432x288 with 1 Axes>"
      ]
     },
     "metadata": {
      "needs_background": "light"
     },
     "output_type": "display_data"
    }
   ],
   "source": [
    "plt.plot(sse_b0['b0'],sse_b0['sse'])\n",
    "plt.plot(sse_b0['b0'],sse_b0['sse'],'*',markersize=14,color='red')\n",
    "plt.show()"
   ]
  },
  {
   "cell_type": "code",
   "execution_count": null,
   "metadata": {},
   "outputs": [],
   "source": [
    "'''\n",
    "In this situation we will be choosing 1 as b0 value , as it is giving the lowest sse, even though the sse is not\n",
    "nearly zero but comparitively minimum.\n",
    "\n",
    "But here we didnot even explore the sse for these b0 values ---->0.99,0.98,0.97,0.96,1.1,1.2 etc... \n",
    "the sse values for these can be comparitively better.\n",
    "\n",
    "For every possible b0, we are not finding sse, so this is not the optimal b0.\n",
    "we need to find that one optimal value of b0  which produce the least sse.\n",
    "'''"
   ]
  },
  {
   "cell_type": "markdown",
   "metadata": {},
   "source": [
    "This trail and error method won't work here, this raw approach of assuming different b0 values, substituting them in the LR euation and calculating SSE everytime, won't work, because we need to substitute all the possible combinations\n",
    "for different b0 values and this will become a complicated process if we have multiple features in the dataset, to find which combination of coefficients will give the least sse."
   ]
  },
  {
   "cell_type": "markdown",
   "metadata": {},
   "source": [
    "This process is therefore very hectic and complicated and we will be needing an algorithm that can tune this b0 (or different coefficients) to an optimal value for which the model is producing least sse."
   ]
  },
  {
   "cell_type": "markdown",
   "metadata": {},
   "source": [
    "#### THEREFORE IN ORDER TO ACHIEVE THIS (FIND OPTIMAL COEFFICIENT VALUES) WE GO FOR GRADIENT DESCENT ALGORITHM."
   ]
  },
  {
   "cell_type": "code",
   "execution_count": null,
   "metadata": {},
   "outputs": [],
   "source": []
  },
  {
   "cell_type": "code",
   "execution_count": null,
   "metadata": {},
   "outputs": [],
   "source": []
  }
 ],
 "metadata": {
  "kernelspec": {
   "display_name": "Python 3",
   "language": "python",
   "name": "python3"
  },
  "language_info": {
   "codemirror_mode": {
    "name": "ipython",
    "version": 3
   },
   "file_extension": ".py",
   "mimetype": "text/x-python",
   "name": "python",
   "nbconvert_exporter": "python",
   "pygments_lexer": "ipython3",
   "version": "3.7.4"
  }
 },
 "nbformat": 4,
 "nbformat_minor": 2
}
